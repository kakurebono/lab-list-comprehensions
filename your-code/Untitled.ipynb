{
 "cells": [
  {
   "cell_type": "markdown",
   "metadata": {},
   "source": [
    "Write a program that prints the integers 1 through 50 using a loop.\n",
    "\n",
    "However, for numbers which are multiples of both 3 and 5 print “FizzBuzz” in the output. For numbers which are multiples of 3 but not 5 print “Fizz” instead of the number and for the numbers that are multiples of 5 but not 3 print “Buzz” instead of the number.\n",
    "\n",
    "All of the remaining numbers which are not multiples of 3 or 5 should just be printed as themselves."
   ]
  },
  {
   "cell_type": "code",
   "execution_count": 2,
   "metadata": {},
   "outputs": [
    {
     "name": "stdout",
     "output_type": "stream",
     "text": [
      "1\n",
      "2\n",
      "Fizz\n",
      "4\n",
      "Buzz\n",
      "Fizz\n",
      "7\n",
      "8\n",
      "Fizz\n",
      "Buzz\n",
      "11\n",
      "Fizz\n",
      "13\n",
      "14\n",
      "FizzBuzz\n",
      "16\n",
      "17\n",
      "Fizz\n",
      "19\n",
      "Buzz\n",
      "Fizz\n",
      "22\n",
      "23\n",
      "Fizz\n",
      "Buzz\n",
      "26\n",
      "Fizz\n",
      "28\n",
      "29\n",
      "FizzBuzz\n",
      "31\n",
      "32\n",
      "Fizz\n",
      "34\n",
      "Buzz\n",
      "Fizz\n",
      "37\n",
      "38\n",
      "Fizz\n",
      "Buzz\n",
      "41\n",
      "Fizz\n",
      "43\n",
      "44\n",
      "FizzBuzz\n",
      "46\n",
      "47\n",
      "Fizz\n",
      "49\n"
     ]
    }
   ],
   "source": [
    "# for i in range(1,50):\n",
    "#     if i % 3 == 0 and i % 5 == 0:\n",
    "#         print('FizzBuzz')\n",
    "#     elif i % 3 == 0 and i % 5 != 0:\n",
    "#         print('Fizz')\n",
    "#     elif i % 5 == 0 and i % 3 != 0:\n",
    "#         print('Buzz')\n",
    "#     else:\n",
    "#         print(i)\n",
    "        \n",
    "        \n",
    "# for num in range(1, 51):\n",
    "#     # If num is divisible by both 3 and 5, \"FizzBuzz\" will be printed.\n",
    "#     if num % 3 == 0 and num % 5 == 0:\n",
    "#         print(\"FizzBuzz\")\n",
    "#     # If num is only divisible by 3, \"Fizz\" will be printed.\n",
    "#     elif num % 3 == 0:\n",
    "#         print(\"Fizz\")\n",
    "#     # If num is only divisible by 5, \"Buzz\" will be printed.\n",
    "#     elif num % 5 == 0:\n",
    "#         print(\"Buzz\")\n",
    "#     # num itself will be printed in all other cases.\n",
    "#     else:\n",
    "#         print(num)      "
   ]
  },
  {
   "cell_type": "code",
   "execution_count": null,
   "metadata": {},
   "outputs": [],
   "source": []
  }
 ],
 "metadata": {
  "kernelspec": {
   "display_name": "Python 3",
   "language": "python",
   "name": "python3"
  },
  "language_info": {
   "codemirror_mode": {
    "name": "ipython",
    "version": 3
   },
   "file_extension": ".py",
   "mimetype": "text/x-python",
   "name": "python",
   "nbconvert_exporter": "python",
   "pygments_lexer": "ipython3",
   "version": "3.8.3"
  }
 },
 "nbformat": 4,
 "nbformat_minor": 4
}
